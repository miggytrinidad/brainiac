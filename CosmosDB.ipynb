{
  "nbformat": 4,
  "nbformat_minor": 0,
  "metadata": {
    "colab": {
      "provenance": [],
      "authorship_tag": "ABX9TyPOjB7L05ild6GyLzF0kJ/w",
      "include_colab_link": true
    },
    "kernelspec": {
      "name": "python3",
      "display_name": "Python 3"
    },
    "language_info": {
      "name": "python"
    }
  },
  "cells": [
    {
      "cell_type": "markdown",
      "metadata": {
        "id": "view-in-github",
        "colab_type": "text"
      },
      "source": [
        "<a href=\"https://colab.research.google.com/github/miggytrinidad/brainiac/blob/main/CosmosDB.ipynb\" target=\"_parent\"><img src=\"https://colab.research.google.com/assets/colab-badge.svg\" alt=\"Open In Colab\"/></a>"
      ]
    },
    {
      "cell_type": "code",
      "source": [
        "pip install azure-cosmos"
      ],
      "metadata": {
        "colab": {
          "base_uri": "https://localhost:8080/"
        },
        "id": "x0CIQ6YE5Fna",
        "outputId": "89487b20-e2aa-423e-e775-57f5caad1035"
      },
      "execution_count": 2,
      "outputs": [
        {
          "output_type": "stream",
          "name": "stdout",
          "text": [
            "Collecting azure-cosmos\n",
            "  Downloading azure_cosmos-4.4.0-py3-none-any.whl (225 kB)\n",
            "\u001b[?25l     \u001b[90m━━━━━━━━━━━━━━━━━━━━━━━━━━━━━━━━━━━━━━━━\u001b[0m \u001b[32m0.0/225.8 kB\u001b[0m \u001b[31m?\u001b[0m eta \u001b[36m-:--:--\u001b[0m\r\u001b[2K     \u001b[90m━━━━━━━━━━━━━━━━━━━━━━━━━━━━━━━━━━━━━━\u001b[0m \u001b[32m225.8/225.8 kB\u001b[0m \u001b[31m14.2 MB/s\u001b[0m eta \u001b[36m0:00:00\u001b[0m\n",
            "\u001b[?25hCollecting azure-core<2.0.0,>=1.23.0 (from azure-cosmos)\n",
            "  Downloading azure_core-1.27.1-py3-none-any.whl (174 kB)\n",
            "\u001b[?25l     \u001b[90m━━━━━━━━━━━━━━━━━━━━━━━━━━━━━━━━━━━━━━━━\u001b[0m \u001b[32m0.0/174.5 kB\u001b[0m \u001b[31m?\u001b[0m eta \u001b[36m-:--:--\u001b[0m\r\u001b[2K     \u001b[90m━━━━━━━━━━━━━━━━━━━━━━━━━━━━━━━━━━━━━━\u001b[0m \u001b[32m174.5/174.5 kB\u001b[0m \u001b[31m17.9 MB/s\u001b[0m eta \u001b[36m0:00:00\u001b[0m\n",
            "\u001b[?25hRequirement already satisfied: requests>=2.18.4 in /usr/local/lib/python3.10/dist-packages (from azure-core<2.0.0,>=1.23.0->azure-cosmos) (2.27.1)\n",
            "Requirement already satisfied: six>=1.11.0 in /usr/local/lib/python3.10/dist-packages (from azure-core<2.0.0,>=1.23.0->azure-cosmos) (1.16.0)\n",
            "Requirement already satisfied: typing-extensions>=4.3.0 in /usr/local/lib/python3.10/dist-packages (from azure-core<2.0.0,>=1.23.0->azure-cosmos) (4.6.3)\n",
            "Requirement already satisfied: urllib3<1.27,>=1.21.1 in /usr/local/lib/python3.10/dist-packages (from requests>=2.18.4->azure-core<2.0.0,>=1.23.0->azure-cosmos) (1.26.16)\n",
            "Requirement already satisfied: certifi>=2017.4.17 in /usr/local/lib/python3.10/dist-packages (from requests>=2.18.4->azure-core<2.0.0,>=1.23.0->azure-cosmos) (2023.5.7)\n",
            "Requirement already satisfied: charset-normalizer~=2.0.0 in /usr/local/lib/python3.10/dist-packages (from requests>=2.18.4->azure-core<2.0.0,>=1.23.0->azure-cosmos) (2.0.12)\n",
            "Requirement already satisfied: idna<4,>=2.5 in /usr/local/lib/python3.10/dist-packages (from requests>=2.18.4->azure-core<2.0.0,>=1.23.0->azure-cosmos) (3.4)\n",
            "Installing collected packages: azure-core, azure-cosmos\n",
            "Successfully installed azure-core-1.27.1 azure-cosmos-4.4.0\n"
          ]
        }
      ]
    },
    {
      "cell_type": "code",
      "execution_count": 3,
      "metadata": {
        "id": "CMGFalzg4w6-"
      },
      "outputs": [],
      "source": [
        "from azure.cosmos import CosmosClient, PartitionKey\n",
        "from datetime import datetime"
      ]
    },
    {
      "cell_type": "code",
      "source": [
        "# Initialize the Cosmos DB client\n",
        "endpoint = 'https://openaitest.documents.azure.com:443/'\n",
        "key = 'V3hLLBjcjO5p7tRrhshgpiAr37fPXi98JyhtdXWupK5AcYfLbDAvmrS7ZqxSaX7qIrvIcNtGapy0ACDbwE4a0A=='\n",
        "client = CosmosClient(endpoint, key)"
      ],
      "metadata": {
        "id": "gtPGeuAJ44RX"
      },
      "execution_count": 4,
      "outputs": []
    },
    {
      "cell_type": "code",
      "source": [
        "def create_database(database_name)\n",
        "  # Create a new database\n",
        "  database_name = database_name\n",
        "  database = client.create_database_if_not_exists(id=database_name)\n",
        "\n",
        "  # Print the database ID\n",
        "  print(f\"Created database with ID: {database.id}\")"
      ],
      "metadata": {
        "id": "Uy3FXWMR9abT"
      },
      "execution_count": null,
      "outputs": []
    },
    {
      "cell_type": "code",
      "source": [
        "def create_container(container_name):\n",
        "  # Define the container settings\n",
        "  container_name = 'logs'\n",
        "  partition_key = PartitionKey(path='/id')  # Replace '/partitionKey' with your own partition key path\n",
        "\n",
        "  # Create the container\n",
        "  container = database.create_container_if_not_exists(\n",
        "      id=container_name,\n",
        "      partition_key=partition_key,\n",
        "      offer_throughput=400  # Specify the desired throughput for the container\n",
        "  )\n",
        "\n",
        "  # Print the container ID\n",
        "  print(f\"Created container with ID: {container.id}\")"
      ],
      "metadata": {
        "id": "mYdPa-qi9f3W"
      },
      "execution_count": null,
      "outputs": []
    },
    {
      "cell_type": "code",
      "source": [
        "def connect_to_db(database_name, container_name):\n",
        "  # Define the database and container names\n",
        "  database_name = database_name\n",
        "  container_name = container_name\n",
        "\n",
        "  # Get a reference to the database and container\n",
        "  database = client.get_database_client(database_name)\n",
        "  container = database.get_container_client(container_name)\n",
        "\n",
        "  return database, container"
      ],
      "metadata": {
        "id": "dtMMEQjh9oyx"
      },
      "execution_count": 26,
      "outputs": []
    },
    {
      "cell_type": "code",
      "source": [
        "DATABASE, CONTAINER = connect_to_db(database_name = \"ChatLogs\", container_name = \"logs\")"
      ],
      "metadata": {
        "id": "OyBJU2Me94NI"
      },
      "execution_count": 27,
      "outputs": []
    },
    {
      "cell_type": "code",
      "source": [
        "# Define a function to insert a chat log entry\n",
        "def insert_chat_log(question, file_name, results):\n",
        "    # Create the chat log document\n",
        "\n",
        "    #id is timestamp with miliseconds to ensure uniqueness\n",
        "    id = datetime.now().strftime('%Y%m%d%H%M%S%f')\n",
        "    timestamp = datetime.utcnow().isoformat()\n",
        "\n",
        "    chat_log = {\"id\": id,\n",
        "                \"timestamp\":timestamp,\n",
        "                \"question\": question,\n",
        "                \"result\": results\n",
        "              }\n",
        "\n",
        "    # Insert the chat log document into the container\n",
        "    CONTAINER.create_item(chat_log)\n",
        "\n",
        "# Example usage\n",
        "question = \"question\"\n",
        "file_name = 'user123'\n",
        "results = [{\n",
        "  \"file_name\": \"file_name\",\n",
        "  \"relevant_text\": \"relevant_text\",\n",
        "  \"score\": \"score\",\n",
        "  }\n",
        "]\n",
        "\n",
        "insert_chat_log(question, file_name, results)"
      ],
      "metadata": {
        "id": "K4OiBl0l5WKi"
      },
      "execution_count": 24,
      "outputs": []
    },
    {
      "cell_type": "code",
      "source": [],
      "metadata": {
        "colab": {
          "base_uri": "https://localhost:8080/",
          "height": 35
        },
        "id": "tK_-VhYu8SYT",
        "outputId": "137a2dd4-9c0b-449d-840e-9ce2d4b62c19"
      },
      "execution_count": 23,
      "outputs": [
        {
          "output_type": "execute_result",
          "data": {
            "text/plain": [
              "'2023-06-29T02:20:29.078329'"
            ],
            "application/vnd.google.colaboratory.intrinsic+json": {
              "type": "string"
            }
          },
          "metadata": {},
          "execution_count": 23
        }
      ]
    }
  ]
}